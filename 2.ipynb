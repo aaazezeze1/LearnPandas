{
 "cells": [
  {
   "cell_type": "code",
   "execution_count": null,
   "metadata": {},
   "outputs": [],
   "source": [
    "# Indexing\n",
    "\n",
    "import pandas as pd\n",
    "\n",
    "# assign country as the index \n",
    "df = pd.read_csv(r'world_population.csv', index_col=\"Country\")\n",
    "\n",
    "# reverse the index\n",
    "# resets the index to default which is sorting by numbers on excel view\n",
    "# df.reset_index(inplace=True)\n",
    "\n",
    "# df.set_index('Country', inplace=True)\n",
    "df"
   ]
  },
  {
   "cell_type": "code",
   "execution_count": null,
   "metadata": {},
   "outputs": [],
   "source": [
    "import pandas as pd\n",
    "# df = pd.read_csv('countries of the world.csv', index_col=\"Country\")\n",
    "\n",
    "# pd.set_option('display.max_colwidth', None)\n",
    "\n",
    "# Get albania located in the one position or index of the csv\n",
    "# df.iloc[1]"
   ]
  },
  {
   "cell_type": "code",
   "execution_count": null,
   "metadata": {},
   "outputs": [],
   "source": [
    "# Multi Indexing\n",
    "import pandas as pd\n",
    "# df = pd.read_csv('world_population.csv', index_col=\"Country\")\n",
    "\n",
    "df = pd.read_csv('world_population.csv')\n",
    "\n",
    "# df.reset_index(inplace=True)\n",
    "\n",
    "# group african continent and african countries and so on\n",
    "df.set_index(['Continent', 'Country'], inplace=True)\n",
    "\n",
    "# Sort index alphabetically\n",
    "# df.sort_index()\n",
    "\n",
    "# Makes sure the data is sorted inplace like with continent and country sorting\n",
    "# as well as sorting it in descending order\n",
    "# df.sort_index(ascending=False, inplace=True)\n",
    "\n",
    "# pd.set_option('display.max.columns', 235)\n",
    "\n",
    "# Show all data but its not sorted\n",
    "# pd.set_option('display.max.columns', None)\n",
    "df"
   ]
  },
  {
   "cell_type": "code",
   "execution_count": null,
   "metadata": {},
   "outputs": [],
   "source": [
    "# after setting index to continent and country\n",
    "# sort through continent first then find the country of angola\n",
    "# df.loc['Africa','Angola']\n",
    "\n",
    "# pulls up ALB when df.sort_index(ascending=False, inplace=True) is commented out\n",
    "df.iloc[1]"
   ]
  },
  {
   "cell_type": "code",
   "execution_count": null,
   "metadata": {},
   "outputs": [],
   "source": [
    "# Group by and Aggregating\n",
    "\n",
    "# https://youtu.be/Mdq1WWSdUtw?si=hkdetvS6Nbx5RbOM&t=2495"
   ]
  }
 ],
 "metadata": {
  "kernelspec": {
   "display_name": "Python 3",
   "language": "python",
   "name": "python3"
  },
  "language_info": {
   "codemirror_mode": {
    "name": "ipython",
    "version": 3
   },
   "file_extension": ".py",
   "mimetype": "text/x-python",
   "name": "python",
   "nbconvert_exporter": "python",
   "pygments_lexer": "ipython3",
   "version": "3.13.2"
  }
 },
 "nbformat": 4,
 "nbformat_minor": 2
}
