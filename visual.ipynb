{
 "cells": [
  {
   "cell_type": "code",
   "execution_count": null,
   "metadata": {},
   "outputs": [],
   "source": [
    "import pandas as pd\n",
    "import numpy as np\n",
    "import matplotlib as plt\n",
    "\n",
    "df = pd.read_csv(r\"C:\\Users\\Amazing\\Desktop\\LearnPandas\\Ice Cream Ratings.csv\")\n",
    "df.set_index('Date')\n",
    "df"
   ]
  },
  {
   "cell_type": "code",
   "execution_count": null,
   "metadata": {},
   "outputs": [],
   "source": [
    "# create a line plot of the ice cream data\n",
    "# visualize all 3 columns\n",
    "# df.plot(kind=\"line\")\n",
    "\n",
    "# add title to line plot\n",
    "# df.plot(kind=\"line\", title=\"Ice Cream Ratings\")\n",
    "\n",
    "# add labels to bottom and side\n",
    "# df.plot(kind=\"line\", title=\"Ice Cream Ratings\", xlabel=\"Daily Ratings\", ylabel=\"Scores\")"
   ]
  },
  {
   "cell_type": "code",
   "execution_count": null,
   "metadata": {},
   "outputs": [],
   "source": [
    "# bar plot\n",
    "# df.plot(kind=\"bar\")\n",
    "\n",
    "# stacked bar plot \n",
    "# df.plot(kind=\"bar\", stacked=True)\n",
    "\n",
    "# specify columns\n",
    "# df[\"Flavor Rating\"].plot(kind=\"bar\", stacked=True)\n",
    "\n",
    "# change orientation of chart to horizontal\n",
    "# df.plot.barh(stacked=True)\n",
    "\n",
    "# scatter plot\n",
    "# df.plot.scatter(x=\"Texture Rating\", y=\"Overall Rating\")\n",
    "\n",
    "# change size and color of the circles\n",
    "# df.plot.scatter(x=\"Texture Rating\", y=\"Overall Rating\", s=500, c=\"Yellow\")\n",
    "\n",
    "# histogram\n",
    "# df.plot.hist()\n",
    "\n",
    "# bins represent how many tick marks at the bottom\n",
    "# df.plot.hist(bins=20)\n",
    "# df.plot.hist(bins=5)\n",
    "# df.plot.hist(bins=100)\n",
    "\n",
    "# box plot\n",
    "# df.boxplot()\n",
    "\n",
    "# area plot\n",
    "# df.plot.area()\n",
    "\n",
    "# make area plot figure size larger\n",
    "# df.plot.area(figsize=(10,5))\n",
    "\n",
    "# pie chart\n",
    "# df.plot.pie(y=\"Flavor Rating\", figsize=(10, 6))"
   ]
  },
  {
   "cell_type": "code",
   "execution_count": null,
   "metadata": {},
   "outputs": [],
   "source": [
    "# show the different styles of charts available\n",
    "# print(plt.style.available)\n",
    "\n",
    "# plt.style.use('fivethirtyeight')\n",
    "plt.style.use('classic')\n",
    "df.plot(kind=\"line\", title=\"Ice Cream Ratings\")"
   ]
  }
 ],
 "metadata": {
  "kernelspec": {
   "display_name": "Python 3",
   "language": "python",
   "name": "python3"
  },
  "language_info": {
   "codemirror_mode": {
    "name": "ipython",
    "version": 3
   },
   "file_extension": ".py",
   "mimetype": "text/x-python",
   "name": "python",
   "nbconvert_exporter": "python",
   "pygments_lexer": "ipython3",
   "version": "3.13.2"
  }
 },
 "nbformat": 4,
 "nbformat_minor": 2
}
