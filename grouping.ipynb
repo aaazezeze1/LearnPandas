{
 "cells": [
  {
   "cell_type": "code",
   "execution_count": null,
   "metadata": {},
   "outputs": [],
   "source": [
    "# Indexing\n",
    "\n",
    "import pandas as pd\n",
    "\n",
    "# assign country as the index \n",
    "df = pd.read_csv(r'world_population.csv', index_col=\"Country\")\n",
    "\n",
    "# reverse the index\n",
    "# resets the index to default which is sorting by numbers on excel view\n",
    "# df.reset_index(inplace=True)\n",
    "\n",
    "# df.set_index('Country', inplace=True)\n",
    "df"
   ]
  },
  {
   "cell_type": "code",
   "execution_count": null,
   "metadata": {},
   "outputs": [],
   "source": [
    "import pandas as pd\n",
    "# df = pd.read_csv('countries of the world.csv', index_col=\"Country\")\n",
    "\n",
    "# pd.set_option('display.max_colwidth', None)\n",
    "\n",
    "# Get albania located in the one position or index of the csv\n",
    "# df.iloc[1]"
   ]
  },
  {
   "cell_type": "code",
   "execution_count": null,
   "metadata": {},
   "outputs": [],
   "source": [
    "# Multi Indexing\n",
    "import pandas as pd\n",
    "# df = pd.read_csv('world_population.csv', index_col=\"Country\")\n",
    "\n",
    "df = pd.read_csv('world_population.csv')\n",
    "\n",
    "# df.reset_index(inplace=True)\n",
    "\n",
    "# group african continent and african countries and so on\n",
    "df.set_index(['Continent', 'Country'], inplace=True)\n",
    "\n",
    "# Sort index alphabetically\n",
    "# df.sort_index()\n",
    "\n",
    "# Makes sure the data is sorted inplace like with continent and country sorting\n",
    "# as well as sorting it in descending order\n",
    "# df.sort_index(ascending=False, inplace=True)\n",
    "\n",
    "# pd.set_option('display.max.columns', 235)\n",
    "\n",
    "# Show all data but its not sorted\n",
    "# pd.set_option('display.max.columns', None)\n",
    "df"
   ]
  },
  {
   "cell_type": "code",
   "execution_count": null,
   "metadata": {},
   "outputs": [],
   "source": [
    "# after setting index to continent and country\n",
    "# sort through continent first then find the country of angola\n",
    "# df.loc['Africa','Angola']\n",
    "\n",
    "# pulls up ALB when df.sort_index(ascending=False, inplace=True) is commented out\n",
    "df.iloc[1]"
   ]
  },
  {
   "cell_type": "code",
   "execution_count": null,
   "metadata": {},
   "outputs": [],
   "source": [
    "# Group by and Aggregating\n",
    "\n",
    "# group by - group together values in a column and display them all on the same row\n",
    "# which allows you to perform aggregate functions in those grouping\n",
    "\n",
    "# aggregation - refers to performing a summary operation on a group of data\n",
    "\n",
    "import pandas as pd\n",
    "\n",
    "df = pd.read_csv(r'C:\\Users\\Amazing\\Desktop\\LearnPandas\\Flavors.csv')\n",
    "\n",
    "# group by base flavor ex vanilla group base only values\n",
    "group_by_frame = df.groupby('Base Flavor')\n",
    "\n",
    "# show the mean of all the columns for the base flavor\n",
    "# group_by_frame = df.groupby('Base Flavor').mean(numeric_only=True)\n",
    "# print(group_by_frame)\n",
    "\n",
    "# check data types of all columns inside csv file\n",
    "# print(df.dtypes)\n",
    "\n",
    "# gets the number of flavors using base flavor vanilla and chocolate\n",
    "# group_by_frame.size()\n",
    "\n",
    "# count the rows that were aggregated\n",
    "# df.groupby('Base Flavor').count()\n",
    "\n",
    "# This is all based on the rating numbers\n",
    "# get the least liked flavor which is chocolate and cake batter\n",
    "# df.groupby('Base Flavor').min()\n",
    "\n",
    "# get the most liked flavor which is rock road and vanilla\n",
    "# df.groupby('Base Flavor').max()\n",
    "\n",
    "# get the total scores\n",
    "# df.groupby('Base Flavor').sum()\n",
    "\n",
    "# aggregate function\n",
    "# do all of the functions before but only on the flavor rating\n",
    "# using a dictionary \n",
    "# df.groupby('Base Flavor').agg({'Flavor Rating':['mean', 'max', 'count', 'sum']})\n",
    "\n",
    "# Add in the texture rating and does the same thing\n",
    "# df.groupby('Base Flavor').agg({'Flavor Rating':['mean', 'max', 'count', 'sum'], 'Texture Rating':['mean', 'max', 'count', 'sum']})\n",
    "\n",
    "# shows the yes and no rating\n",
    "# df.groupby(['Base Flavor', 'Liked']).mean(numeric_only=True)\n",
    "\n",
    "# same as the previous code\n",
    "# df.groupby(['Base Flavor', 'Liked']).agg({'Flavor Rating':['mean', 'max', 'count', 'sum']})\n",
    "\n",
    "# uses the previous aggregate functions but generalized version\n",
    "df.groupby('Base Flavor').describe()"
   ]
  }
 ],
 "metadata": {
  "kernelspec": {
   "display_name": "Python 3",
   "language": "python",
   "name": "python3"
  },
  "language_info": {
   "codemirror_mode": {
    "name": "ipython",
    "version": 3
   },
   "file_extension": ".py",
   "mimetype": "text/x-python",
   "name": "python",
   "nbconvert_exporter": "python",
   "pygments_lexer": "ipython3",
   "version": "3.13.2"
  }
 },
 "nbformat": 4,
 "nbformat_minor": 2
}
