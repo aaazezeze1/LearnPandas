{
 "cells": [
  {
   "cell_type": "code",
   "execution_count": null,
   "metadata": {},
   "outputs": [],
   "source": [
    "# Exploratory Data Analysis\n",
    " \n",
    "# https://youtu.be/Mdq1WWSdUtw?si=-6aJZU12vOBQlOSu&t=7677"
   ]
  }
 ],
 "metadata": {
  "language_info": {
   "name": "python"
  }
 },
 "nbformat": 4,
 "nbformat_minor": 2
}
