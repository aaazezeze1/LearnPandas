{
 "cells": [
  {
   "cell_type": "code",
   "execution_count": null,
   "metadata": {},
   "outputs": [],
   "source": [
    "# Merge, Join and Concatenate\n",
    "\n",
    "import pandas as pd\n",
    "\n",
    "# https://youtu.be/Mdq1WWSdUtw?si=hb8RDvq45-kXHZ6a&t=3167\n",
    "\n",
    "df1 = pd.read_csv(r\"C:\\Users\\Amazing\\Desktop\\LearnPandas\\LOTR.csv\")\n",
    "df1"
   ]
  },
  {
   "cell_type": "code",
   "execution_count": null,
   "metadata": {},
   "outputs": [],
   "source": [
    "df2 = pd.read_csv(r\"C:\\Users\\Amazing\\Desktop\\LearnPandas\\LOTR 2.csv\")\n",
    "df2"
   ]
  },
  {
   "cell_type": "code",
   "execution_count": null,
   "metadata": {},
   "outputs": [],
   "source": [
    "# df1 is left and df2 is right so default merge and do an inner join\n",
    "# get only ones that match and merge them\n",
    "# df1.merge(df2)\n",
    "\n",
    "# df1.merge(df2, how=\"inner\", on=[\"FellowshipID\", \"FirstName\"])\n",
    "\n",
    "# all values regardless if they are the same\n",
    "# that's why 1005 is missing\n",
    "# df1.merge(df2, how=\"outer\")\n",
    "\n",
    "# take everything from df1 or left and pull the overlaps from df2 if it matches\n",
    "# df1.merge(df2, how=\"left\")\n",
    "\n",
    "# does the opposite of left\n",
    "# df1.merge(df2, how=\"right\")\n",
    "\n",
    "# takes values from each df and compares it to right df\n",
    "# df1.merge(df2, how=\"cross\")\n"
   ]
  },
  {
   "cell_type": "code",
   "execution_count": null,
   "metadata": {},
   "outputs": [],
   "source": [
    "# join df1 and df2\n",
    "# df1.join(df2, on=\"FellowshipID\", how=\"outer\", lsuffix=\"_Left\", rsuffix=\"_Right\")\n",
    "\n",
    "# similar to merge and now the fellowship id is an index\n",
    "# df4 = df1.set_index('FellowshipID').join(df2.set_index('FellowshipID'), lsuffix=\"_Left\", rsuffix=\"_Right\")\n",
    "# df4 = df1.set_index('FellowshipID').join(df2.set_index('FellowshipID'), lsuffix=\"_Left\", rsuffix=\"_Right\", how=\"outer\")\n",
    "# df4"
   ]
  },
  {
   "cell_type": "code",
   "execution_count": null,
   "metadata": {},
   "outputs": [],
   "source": [
    "# Concatenate - put one data frame on top of the other\n",
    "# pd.concat([df1, df2])\n",
    "# pd.concat([df1, df2], join=\"inner\")\n",
    "# pd.concat([df1, df2], join=\"outer\")\n",
    "\n",
    "# put it side by side\n",
    "# pd.concat([df1, df2], join=\"outer\", axis=1)\n",
    "\n",
    "# Append - append one data frame to the end of another data frame"
   ]
  }
 ],
 "metadata": {
  "kernelspec": {
   "display_name": "Python 3",
   "language": "python",
   "name": "python3"
  },
  "language_info": {
   "codemirror_mode": {
    "name": "ipython",
    "version": 3
   },
   "file_extension": ".py",
   "mimetype": "text/x-python",
   "name": "python",
   "nbconvert_exporter": "python",
   "pygments_lexer": "ipython3",
   "version": "3.13.2"
  }
 },
 "nbformat": 4,
 "nbformat_minor": 2
}
