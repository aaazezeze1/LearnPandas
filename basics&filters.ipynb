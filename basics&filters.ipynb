{
 "cells": [
  {
   "cell_type": "code",
   "execution_count": null,
   "metadata": {},
   "outputs": [],
   "source": [
    "import pandas as pd\n",
    "\n",
    "pd.read_csv('countries of the world.csv')\n",
    "\n",
    "# removes the header or the name of the columns\n",
    "# pd.read_csv('countries of the world.csv', header=None)\n",
    "\n",
    "# add column names\n",
    "df = pd.read_csv(\"countries of the world.csv\", header=None, names=['Country', 'Region'])\n",
    "print(df)"
   ]
  },
  {
   "cell_type": "code",
   "execution_count": null,
   "metadata": {},
   "outputs": [],
   "source": [
    "# Import Text File\n",
    "df = pd.read_table(r\"countries of the world.txt\")\n",
    "\n",
    "# Improper way of importing a text file\n",
    "# can also be used to read csv as long as there's a separator or sep\n",
    "df = pd.read_csv(\"countries of the world.txt\", sep='\\t')\n",
    "print(df)\n",
    "\n",
    "# Importing JSON files\n",
    "df = pd.read_json(\"json_sample.json\")\n",
    "df"
   ]
  },
  {
   "cell_type": "code",
   "execution_count": null,
   "metadata": {},
   "outputs": [],
   "source": [
    "# Importing Excel Files\n",
    "# prints a short overview of the data in excel file\n",
    "# reads the first sheet on the excel file\n",
    "# df = pd.read_excel(r\"world_population_excel_workbook.xlsx\")\n",
    "\n",
    "# to read the other sheet\n",
    "df2 = pd.read_excel(r\"world_population_excel_workbook.xlsx\", sheet_name='Sheet1')\n",
    "# print(df)\n",
    "\n",
    "# print all the numbers and data \n",
    "pd.set_option('display.max.rows', 235)\n",
    "pd.set_option('display.max.columns', 40)\n",
    "df2"
   ]
  },
  {
   "cell_type": "code",
   "execution_count": null,
   "metadata": {},
   "outputs": [],
   "source": [
    "import pandas as pd\n",
    "\n",
    "# quick overview of data frame\n",
    "df2 = pd.read_excel(r\"world_population_excel_workbook.xlsx\", sheet_name='Sheet1')\n",
    "# df2.info()\n",
    "\n",
    "# get the amount of rows and columns\n",
    "# df2.shape\n",
    "\n",
    "# gets the first 5 values by default\n",
    "# this gives the first 10 values instead\n",
    "df2.head(10)\n",
    "\n",
    "# gets the last 5 values by default\n",
    "# this gives the last 10 values instead\n",
    "df2.tail(10)"
   ]
  },
  {
   "cell_type": "code",
   "execution_count": null,
   "metadata": {},
   "outputs": [],
   "source": [
    "import pandas as pd\n",
    "\n",
    "df2 = pd.read_excel(r\"world_population_excel_workbook.xlsx\", sheet_name='Sheet1')\n",
    "\n",
    "# Take a look at only the rank data\n",
    "# df2['Rank']\n",
    "\n",
    "# loc and iloc\n",
    "# loc gets rows (and/or columns) with particular labels.\n",
    "# iloc gets rows (and/or columns) at integer locations.\n",
    "\n",
    "# df2.loc[224]\n",
    "# df2.loc['Uzbekistan']\n",
    "\n",
    "# iloc - integer location\n",
    "# df2.iloc[224]"
   ]
  },
  {
   "cell_type": "code",
   "execution_count": null,
   "metadata": {},
   "outputs": [],
   "source": [
    "# Filtering and Ordering\n",
    "\n",
    "import pandas as pd\n",
    "df = pd.read_csv(r\"world_population.csv\")\n",
    "\n",
    "# Filter based on columns\n",
    "\n",
    "# return values less than 10 from rank column\n",
    "# df[df['Rank'] < 10]\n",
    "\n",
    "# return values from a specific country column\n",
    "# specific_countries = ['Bangladesh', 'Brazil']\n",
    "# df[df['Country'].isin(specific_countries)]\n",
    "\n",
    "# contains function\n",
    "# df[df['Country'].str.contains('United')]\n",
    "\n",
    "# filter based on index\n",
    "# returns only 2 columns named continent and CCA3\n",
    "df2 = df.set_index('Country')\n",
    "# df2.filter(items=['Continent', 'CCA3'])\n",
    "\n",
    "# columns are axis 1 while the first on the row is 0\n",
    "# df2.filter(items=['Continent', 'CCA3'], axis=0)\n",
    "\n",
    "# https://youtu.be/Mdq1WWSdUtw?si=tKdx3cxa0UTHl677&t=1531\n",
    "\n",
    "# Get only details about Zimbabwe\n",
    "# df2.filter(items=['Zimbabwe'], axis=0)\n",
    "\n",
    "# Give all countries wuth united in it\n",
    "# df2.filter(like='United', axis=0)\n",
    "\n",
    "# Gives all the columns of united states and all the values\n",
    "# df2.loc['United States']\n",
    "\n",
    "# Integer location\n",
    "df2.iloc[3]"
   ]
  },
  {
   "cell_type": "code",
   "execution_count": null,
   "metadata": {},
   "outputs": [],
   "source": [
    "# Order by \n",
    "\n",
    "# Order the values < 10 in the rank column \n",
    "# df[df['Rank'] < 10].sort_values(by='Rank')\n",
    "\n",
    "# Sort by continent then sort by country afterwards\n",
    "# df[df['Rank'] < 10].sort_values(by=['Continent', 'Country'], ascending=False)\n",
    "\n",
    "# False ascend on continent but sort it descending on country\n",
    "df[df['Rank'] < 10].sort_values(by=['Continent', 'Country'], ascending=[False, True])"
   ]
  }
 ],
 "metadata": {
  "kernelspec": {
   "display_name": "Python 3",
   "language": "python",
   "name": "python3"
  },
  "language_info": {
   "codemirror_mode": {
    "name": "ipython",
    "version": 3
   },
   "file_extension": ".py",
   "mimetype": "text/x-python",
   "name": "python",
   "nbconvert_exporter": "python",
   "pygments_lexer": "ipython3",
   "version": "3.13.2"
  }
 },
 "nbformat": 4,
 "nbformat_minor": 2
}
