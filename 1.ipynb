{
 "cells": [
  {
   "cell_type": "code",
   "execution_count": null,
   "metadata": {},
   "outputs": [],
   "source": [
    "import pandas as pd\n",
    "\n",
    "pd.read_csv('countries of the world.csv')\n",
    "\n",
    "# removes the header or the name of the columns\n",
    "# pd.read_csv('countries of the world.csv', header=None)\n",
    "\n",
    "# add column names\n",
    "df = pd.read_csv(\"countries of the world.csv\", header=None, names=['Country', 'Region'])\n",
    "print(df)"
   ]
  },
  {
   "cell_type": "code",
   "execution_count": null,
   "metadata": {},
   "outputs": [],
   "source": [
    "# Import Text File\n",
    "df = pd.read_table(r\"countries of the world.txt\")\n",
    "\n",
    "# Improper way of importing a text file\n",
    "# can also be used to read csv as long as there's a separator or sep\n",
    "df = pd.read_csv(\"countries of the world.txt\", sep='\\t')\n",
    "print(df)\n",
    "\n",
    "# Importing JSON files\n",
    "df = pd.read_json(\"json_sample.json\")\n",
    "df"
   ]
  },
  {
   "cell_type": "code",
   "execution_count": null,
   "metadata": {},
   "outputs": [],
   "source": [
    "# Importing Excel Files\n",
    "# prints a short overview of the data in excel file\n",
    "# reads the first sheet on the excel file\n",
    "# df = pd.read_excel(r\"world_population_excel_workbook.xlsx\")\n",
    "\n",
    "# to read the other sheet\n",
    "df2 = pd.read_excel(r\"world_population_excel_workbook.xlsx\", sheet_name='Sheet1')\n",
    "# print(df)\n",
    "\n",
    "# print all the numbers and data \n",
    "pd.set_option('display.max.rows', 235)\n",
    "pd.set_option('display.max.columns', 40)\n",
    "df2"
   ]
  },
  {
   "cell_type": "code",
   "execution_count": null,
   "metadata": {},
   "outputs": [],
   "source": [
    "# quick overview of data frame\n",
    "df2 = pd.read_excel(r\"world_population_excel_workbook.xlsx\", sheet_name='Sheet1')\n",
    "# df2.info()\n",
    "\n",
    "# get the amount of rows and columns\n",
    "# df2.shape\n",
    "\n",
    "# gets the first 5 values by default\n",
    "# this gives the first 10 values instead\n",
    "df2.head(10)\n",
    "\n",
    "# gets the last 5 values by default\n",
    "# this gives the last 10 values instead\n",
    "df2.tail(10)"
   ]
  },
  {
   "cell_type": "code",
   "execution_count": null,
   "metadata": {},
   "outputs": [
    {
     "data": {
      "text/plain": [
       "Rank               43\n",
       "CCA3              UZB\n",
       "Country    Uzbekistan\n",
       "Capital      Tashkent\n",
       "Name: 224, dtype: object"
      ]
     },
     "execution_count": 20,
     "metadata": {},
     "output_type": "execute_result"
    }
   ],
   "source": [
    "df2 = pd.read_excel(r\"world_population_excel_workbook.xlsx\", sheet_name='Sheet1')\n",
    "\n",
    "# Take a look at only the rank data\n",
    "# df2['Rank']\n",
    "\n",
    "# loc and iloc\n",
    "df2.loc[224]\n",
    "\n",
    "# https://youtu.be/Mdq1WWSdUtw?si=1a96eW4tKcrcQffl&t=1082"
   ]
  }
 ],
 "metadata": {
  "kernelspec": {
   "display_name": "Python 3",
   "language": "python",
   "name": "python3"
  },
  "language_info": {
   "codemirror_mode": {
    "name": "ipython",
    "version": 3
   },
   "file_extension": ".py",
   "mimetype": "text/x-python",
   "name": "python",
   "nbconvert_exporter": "python",
   "pygments_lexer": "ipython3",
   "version": "3.13.2"
  }
 },
 "nbformat": 4,
 "nbformat_minor": 2
}
